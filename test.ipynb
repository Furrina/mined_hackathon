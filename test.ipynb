{
  "nbformat": 4,
  "nbformat_minor": 0,
  "metadata": {
    "colab": {
      "provenance": []
    },
    "kernelspec": {
      "name": "python3",
      "display_name": "Python 3"
    },
    "language_info": {
      "name": "python"
    }
  },
  "cells": [
    {
      "cell_type": "code",
      "execution_count": null,
      "metadata": {
        "id": "czv46NLKTW14"
      },
      "outputs": [],
      "source": [
        "import pandas as pd\n",
        "import joblib\n",
        "from sklearn.preprocessing import StandardScaler\n",
        "\n",
        "best_rf = joblib.load(\"/content/best_rf_model.pkl\")\n",
        "scaler = joblib.load(\"/content/scaler.pkl\")\n",
        "\n",
        "test_df = pd.read_csv(\"merged.csv\")\n",
        "\n",
        "hash_column = test_df[[\"SHA256\"]]\n",
        "test_X = test_df.drop(columns=[\"SHA256\"], errors=\"ignore\")\n",
        "\n",
        "test_X = test_X.fillna(0)\n",
        "\n",
        "selected_columns_train = best_rf.feature_importances_\n",
        "\n",
        "test_X = test_X[selected_columns_train]\n",
        "\n",
        "test_X_scaled = scaler.transform(test_X)\n",
        "\n",
        "test_predictions = best_rf.predict(test_X_scaled)\n",
        "\n",
        "output_df = hash_column.copy()\n",
        "output_df[\"Predicted_Type\"] = test_predictions\n",
        "\n",
        "output_df.to_csv(\"/content/output.csv\", index=False)\n",
        "\n",
        "print(\"Predictions saved to 'output.csv'.\")\n"
      ]
    }
  ]
}