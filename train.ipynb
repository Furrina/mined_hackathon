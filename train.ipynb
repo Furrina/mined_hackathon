{
  "cells": [
    {
      "cell_type": "code",
      "execution_count": null,
      "metadata": {
        "id": "VaqtWRSITONZ"
      },
      "outputs": [],
      "source": [
        "import pandas as pd\n",
        "import numpy as np\n",
        "from sklearn.model_selection import train_test_split, GridSearchCV\n",
        "from sklearn.metrics import accuracy_score, classification_report\n",
        "from sklearn.preprocessing import StandardScaler\n",
        "from sklearn.ensemble import RandomForestClassifier\n",
        "from sklearn.feature_selection import SelectFromModel\n",
        "\n",
        " df = pd.read_csv('merged.csv')\n",
        "\n",
        " \n",
        "X = df.drop(columns=[\"unique_id\", \"Type\", \"Type_x\", \"Type_y\"])\n",
        "y = df[\"Type\"]\n",
        "\n",
        "X = X.fillna(0)\n",
        "\n",
        "scaler = StandardScaler()\n",
        "X_scaled = scaler.fit_transform(X)\n",
        "\n",
        "\n",
        "feature_selector = RandomForestClassifier(n_estimators=100, random_state=42, n_jobs=-1)\n",
        "feature_selector.fit(X_scaled, y)\n",
        "\n",
        "selector = SelectFromModel(feature_selector, threshold=\"0.75*mean\", prefit=True)\n",
        "X_selected = selector.transform(X_scaled)\n",
        "\n",
        "print(f\"Original features: {X.shape[1]}, Selected features: {X_selected.shape[1]}\")\n",
        "\n",
        "\n",
        "X_train, X_test, y_train, y_test = train_test_split(X_selected, y, test_size=0.2, random_state=42, stratify=y)\n",
        "\n",
        "param_grid = {\n",
        "    'n_estimators': [400, 500, 600],\n",
        "    'max_depth': [22, 26, 32],\n",
        "    'min_samples_split': [3, 5, 8],\n",
        "    'min_samples_leaf': [1, 2, 3],\n",
        "    'max_features': ['sqrt'],\n",
        "    'bootstrap': [True],\n",
        "    'max_samples': [0.95],\n",
        "}\n",
        "\n",
        "rf = RandomForestClassifier(class_weight={0:1, 1:1, 2:1, 3:1, 4:1, 5:2, 6:1}, random_state=42, n_jobs=-1)\n",
        "\n",
        "rf_grid_search = GridSearchCV(\n",
        "    rf, param_grid, cv=3, verbose=1, n_jobs=-1, scoring='accuracy'\n",
        ")\n",
        "rf_grid_search.fit(X_train, y_train)\n",
        "\n",
        "\n",
        "best_rf = rf_grid_search.best_estimator_\n",
        "best_rf.fit(X_train, y_train)\n",
        "\n",
        "\n",
        "y_pred = best_rf.predict(X_test)\n",
        "accuracy = accuracy_score(y_test, y_pred)\n",
        "\n",
        "print(f\"Final Optimized Accuracy: {accuracy * 100:.2f}%\")\n",
        "print(\"Optimized Classification Report:\\n\", classification_report(y_test, y_pred))\n"
      ]
    }
  ],
  "metadata": {
    "colab": {
      "provenance": []
    },
    "kernelspec": {
      "display_name": "Python 3",
      "name": "python3"
    },
    "language_info": {
      "name": "python"
    }
  },
  "nbformat": 4,
  "nbformat_minor": 0
}
