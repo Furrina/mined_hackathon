{
  "cells": [
    {
      "cell_type": "code",
      "execution_count": null,
      "metadata": {
        "colab": {
          "base_uri": "https://localhost:8080/"
        },
        "id": "r8NTUMi1XiFz",
        "outputId": "982ac341-80ed-4195-ddcc-e9984fdd7b19"
      },
      "outputs": [
        {
          "name": "stdout",
          "output_type": "stream",
          "text": [
            "(28016, 630)\n",
            "       Type  advapi32.dll  kernel32.dll  vspmsg.dll  ole32.dll  oleaut32.dll  \\\n",
            "0         0             1             1           0          0             0   \n",
            "1         0             1             1           0          1             0   \n",
            "2         0             1             1           0          1             1   \n",
            "3         0             1             1           0          0             0   \n",
            "4         0             1             1           0          1             1   \n",
            "...     ...           ...           ...         ...        ...           ...   \n",
            "25621     6             1             1           0          1             1   \n",
            "26007     6             1             1           0          1             1   \n",
            "26186     6             1             1           0          1             1   \n",
            "27839     6             0             1           0          0             0   \n",
            "27907     6             1             1           0          0             0   \n",
            "\n",
            "       psapi.dll  setupapi.dll  shlwapi.dll  pdh.dll  ...  odbccp32.dll  \\\n",
            "0              0             0            0        0  ...             0   \n",
            "1              0             0            0        0  ...             0   \n",
            "2              1             0            1        0  ...             0   \n",
            "3              0             0            0        0  ...             0   \n",
            "4              0             0            0        0  ...             0   \n",
            "...          ...           ...          ...      ...  ...           ...   \n",
            "25621          0             0            0        0  ...             0   \n",
            "26007          0             0            0        0  ...             0   \n",
            "26186          1             0            0        0  ...             0   \n",
            "27839          0             0            0        0  ...             0   \n",
            "27907          0             0            0        0  ...             0   \n",
            "\n",
            "       api-ms-win-crt-environment-l1-1-0.dll  \\\n",
            "0                                          0   \n",
            "1                                          0   \n",
            "2                                          0   \n",
            "3                                          0   \n",
            "4                                          0   \n",
            "...                                      ...   \n",
            "25621                                      0   \n",
            "26007                                      0   \n",
            "26186                                      0   \n",
            "27839                                      0   \n",
            "27907                                      0   \n",
            "\n",
            "       api-ms-win-core-memory-l1-1-3.dll  api-ms-win-core-datetime-l1-1-0.dll  \\\n",
            "0                                      0                                    0   \n",
            "1                                      0                                    0   \n",
            "2                                      0                                    0   \n",
            "3                                      0                                    0   \n",
            "4                                      0                                    0   \n",
            "...                                  ...                                  ...   \n",
            "25621                                  0                                    0   \n",
            "26007                                  0                                    0   \n",
            "26186                                  0                                    0   \n",
            "27839                                  0                                    0   \n",
            "27907                                  0                                    0   \n",
            "\n",
            "       api-ms-win-core-psapi-ansi-l1-1-0.dll  \\\n",
            "0                                          0   \n",
            "1                                          0   \n",
            "2                                          0   \n",
            "3                                          0   \n",
            "4                                          0   \n",
            "...                                      ...   \n",
            "25621                                      0   \n",
            "26007                                      0   \n",
            "26186                                      0   \n",
            "27839                                      0   \n",
            "27907                                      0   \n",
            "\n",
            "       api-ms-win-core-fibers-l1-1-0.dll  api-ms-win-core-file-l2-1-0.dll  \\\n",
            "0                                      0                                0   \n",
            "1                                      0                                0   \n",
            "2                                      0                                0   \n",
            "3                                      0                                0   \n",
            "4                                      0                                0   \n",
            "...                                  ...                              ...   \n",
            "25621                                  0                                0   \n",
            "26007                                  0                                0   \n",
            "26186                                  0                                0   \n",
            "27839                                  0                                0   \n",
            "27907                                  0                                0   \n",
            "\n",
            "       api-ms-win-core-sysinfo-l1-2-0.dll  dbgeng.dll  d3d11.dll  \n",
            "0                                       0           0          0  \n",
            "1                                       0           0          0  \n",
            "2                                       0           0          0  \n",
            "3                                       0           0          0  \n",
            "4                                       0           0          0  \n",
            "...                                   ...         ...        ...  \n",
            "25621                                   0           0          0  \n",
            "26007                                   0           0          0  \n",
            "26186                                   0           0          0  \n",
            "27839                                   0           0          0  \n",
            "27907                                   0           0          0  \n",
            "\n",
            "[1173 rows x 630 columns]\n"
          ]
        }
      ],
      "source": [
        "import dask.dataframe as dd\n",
        "\n",
        "\n",
        "df_pe = dd.read_csv(\"portable_executable.csv\")\n",
        "df_dll = dd.read_csv(\"DLLs_Imported.csv\")\n",
        "df_api = dd.read_csv(\"API_functions.csv\")\n",
        "\n",
        "df_pe = df_pe.rename(columns={\"hash\": \"unique_id\"})\n",
        "df_dll = df_dll.rename(columns={\"hash\": \"unique_id\"})\n",
        "df_api = df_api.rename(columns={\"hash\": \"unique_id\"})\n",
        "\n",
        "combined_df = dd.merge(df_pe, df_dll, on=\"unique_id\", how=\"outer\")\n",
        "combined_df = dd.merge(combined_df, df_api, on=\"unique_id\", how=\"outer\")\n",
        "\n",
        "combined_df = combined_df.drop_duplicates(subset=\"unique_id\")\n",
        "\n",
        "combined_df = combined_df.persist()\n",
        "\n",
        "combined_df.to_csv(\"merged.csv\", index=False, single_file=True)\n",
        "\n",
        "combined_df_computed = combined_df.compute()\n",
        "print(combined_df_computed.head())"
      ]
    },
    {
      "cell_type": "code",
      "execution_count": null,
      "metadata": {
        "colab": {
          "base_uri": "https://localhost:8080/"
        },
        "id": "j2UvqTjlYjqv",
        "outputId": "2cfdf3b1-cf0c-4bb1-f2bc-6b63bae37da6"
      },
      "outputs": [
        {
          "name": "stdout",
          "output_type": "stream",
          "text": [
            "Columns with the same value throughout: ['sfbappsdk.dll', 'oisapp.dll', 'librsvg-2-2.dll', 'ppcore.dll', 'api-ms-win-core-kernel32-private-l1-1-2.dll', 'api-ms-win-downlevel-shlwapi-l1-1-1.dll', 'api-ms-win-downlevel-shlwapi-l2-1-1.dll', 'perl516.dll']\n",
            "Number of constant columns: 8\n"
          ]
        }
      ],
      "source": [
        "# def get_constant_columns(df):\n",
        "#     return [col for col in df.columns if df[col].nunique() == 1]\n",
        "\n",
        "# constant_columns = get_constant_columns(df_unique)\n",
        "# print(\"Columns with the same value throughout:\", constant_columns)\n",
        "# print(\"Number of constant columns:\", len(constant_columns))"
      ]
    },
    {
      "cell_type": "code",
      "execution_count": null,
      "metadata": {
        "colab": {
          "base_uri": "https://localhost:8080/"
        },
        "id": "kKWqxhVEYqLK",
        "outputId": "1d417284-7d7c-4508-c4de-31e82f19f360"
      },
      "outputs": [
        {
          "name": "stdout",
          "output_type": "stream",
          "text": [
            "(1173, 622)\n"
          ]
        }
      ],
      "source": [
        "# df_unique = df_unique.drop(columns=constant_columns)\n",
        "# print(df_unique.shape)"
      ]
    },
    {
      "cell_type": "code",
      "execution_count": null,
      "metadata": {
        "id": "_dWoVmr2ZIvn"
      },
      "outputs": [],
      "source": []
    },
    {
      "cell_type": "code",
      "execution_count": null,
      "metadata": {
        "id": "01CZykrZZJ5G"
      },
      "outputs": [],
      "source": [
        "# import sklearn"
      ]
    },
    {
      "cell_type": "code",
      "execution_count": null,
      "metadata": {
        "colab": {
          "base_uri": "https://localhost:8080/"
        },
        "id": "-3xKG8CnY2I6",
        "outputId": "706f15d6-43ab-4bc7-e4c3-7ccfe17b1658"
      },
      "outputs": [
        {
          "name": "stdout",
          "output_type": "stream",
          "text": [
            "Explained variance ratio of each component: [0.03853977 0.03070336 0.02658312 0.02248991 0.01954023 0.01661509\n",
            " 0.01590757 0.01515083 0.01460012 0.01447355 0.01317375 0.01271431\n",
            " 0.01013941 0.00942375 0.00913857 0.00894788 0.00873611 0.00832087\n",
            " 0.00820785 0.00820393 0.00779264 0.00743315 0.00728552 0.00719794\n",
            " 0.00710262 0.00698033 0.00663706 0.00662317 0.00647418 0.00640339\n",
            " 0.00627232 0.00626281 0.00612349 0.00610571 0.00596568 0.00582281\n",
            " 0.00578186 0.00572095 0.00554083 0.00548599 0.00546428 0.005377\n",
            " 0.00528195 0.00507015 0.00503003 0.00496291 0.00491822 0.00489069\n",
            " 0.00484065 0.00481954 0.00471529 0.0046691  0.00456472 0.00448711\n",
            " 0.00438779 0.00438144 0.00422464 0.00417446 0.00410807 0.00407982\n",
            " 0.00403471 0.00402871 0.00399902 0.00384647 0.0038234  0.00375653\n",
            " 0.00362621 0.00360203 0.00357394 0.00353637 0.00349306 0.00347927\n",
            " 0.00345708 0.00342747 0.00338367 0.00337958 0.00328453 0.0032701\n",
            " 0.00326295 0.00323397 0.00322177 0.00321112 0.00312372 0.00311225\n",
            " 0.00306422 0.00305543 0.0030351  0.00297612 0.00295325 0.00292808\n",
            " 0.00290342 0.00288087 0.00285853 0.00283126 0.00282079 0.00279215\n",
            " 0.00277451 0.00276093 0.00275106 0.00274818 0.00273851 0.00269565\n",
            " 0.00262801 0.00260969 0.00259627 0.00259457 0.00255634 0.00252495\n",
            " 0.0025082  0.00248529 0.00246654 0.0023975  0.00238352 0.0023621\n",
            " 0.00234484 0.00233071 0.00231922 0.00229952 0.00225452 0.00223792\n",
            " 0.00221963 0.00218354 0.00215662 0.00215153 0.0021441  0.00212867\n",
            " 0.00211705 0.00210199 0.00209621 0.00208663 0.00207981 0.00207218\n",
            " 0.00205899 0.00204572 0.00203407 0.00202088 0.00200292 0.00198305\n",
            " 0.0019744  0.00196585 0.00196274 0.00195441 0.00193438 0.00192702\n",
            " 0.00190646 0.00189417 0.00188124 0.00186894 0.00184798 0.00184318\n",
            " 0.00182702 0.00181616 0.00181083 0.00180698 0.00179429 0.0017805\n",
            " 0.0017715  0.00176166 0.00175438 0.00174427 0.0017423  0.00173498\n",
            " 0.00172914 0.00172599 0.00171302 0.00170343 0.00170194 0.0016975\n",
            " 0.00169518 0.00169157 0.00168465 0.00167745 0.00167361 0.00166681\n",
            " 0.00166553 0.00166263 0.00165672 0.00165199 0.00164905 0.00163899\n",
            " 0.00163513 0.00163312 0.00163051 0.00162807 0.00162514 0.0016232\n",
            " 0.00161974 0.00161701 0.00161545 0.00161404 0.00161202 0.00161075\n",
            " 0.00161026 0.00160997 0.00160989 0.00160948 0.00160944 0.00160909\n",
            " 0.00160909 0.00160909 0.00160909 0.00160909 0.00160909 0.00160909\n",
            " 0.00160909 0.00160909 0.00160909 0.00160909 0.00160909 0.00160909\n",
            " 0.00160909 0.00160909 0.00160909 0.00160909 0.00160909 0.00160851\n",
            " 0.00160481 0.00159667 0.00159069 0.00157958 0.00153805 0.00151107\n",
            " 0.00148999 0.00147138 0.00145802 0.00142687 0.00141421 0.00140507\n",
            " 0.00139842 0.001369   0.00136564 0.00134959 0.00132855 0.00130887\n",
            " 0.00129899 0.0012977  0.00127155 0.00125459 0.00123655 0.00122017\n",
            " 0.00120816 0.00119677 0.00118321 0.00117438 0.00114769 0.0011335\n",
            " 0.00111629 0.00109449 0.00108207 0.00107436 0.00106165 0.00104398\n",
            " 0.00103632 0.00101098 0.00100588 0.00099653 0.00097178 0.00096395\n",
            " 0.00095775 0.00094437 0.00092566 0.00091764 0.00090259 0.00089634\n",
            " 0.00088664 0.00088081 0.00086882 0.00086309 0.00084886 0.00084379\n",
            " 0.00084115 0.00083606]\n",
            "Number of components: 272\n",
            "           0         1         2         3         4         5         6    \\\n",
            "0    -0.161419 -0.955590 -0.230076 -0.067087 -0.499687 -0.296306 -0.062746   \n",
            "1    -0.217725 -0.226591  0.004025 -1.009611 -0.459132 -0.239502 -0.662720   \n",
            "2    -0.204421 -1.628267 -0.108718 -0.083685 -0.045064 -0.184295 -1.397987   \n",
            "3    -0.156536 -0.928439 -0.060960 -0.173607 -0.305819 -0.343484 -0.110582   \n",
            "4    -0.144551 -1.210058  0.394214 -0.446747  0.076583 -0.484775 -0.827576   \n",
            "...        ...       ...       ...       ...       ...       ...       ...   \n",
            "1168 -0.169115 -1.822655 -0.186050  0.231330  0.216296 -0.058120 -1.788824   \n",
            "1169 -0.159128 -1.841883 -0.133078  0.208338  0.665668 -0.195226 -1.921690   \n",
            "1170 -0.091591 -2.160164  0.809481 -0.082685  1.752646  0.107979 -2.866306   \n",
            "1171 -0.141010 -0.916883 -0.248190  0.245293 -0.370507 -0.175948 -0.008515   \n",
            "1172 -0.160113 -1.173452 -0.218086  0.249544 -0.224649 -0.202431 -0.631032   \n",
            "\n",
            "           7         8         9    ...       262       263       264  \\\n",
            "0    -0.144732 -0.279320 -0.376548  ... -0.617209 -0.408044  0.722876   \n",
            "1     0.034710 -0.359824 -0.352226  ... -0.052607  2.216141  0.597163   \n",
            "2    -0.421366 -0.627902 -0.482293  ... -4.002185 -4.592570 -1.928108   \n",
            "3    -0.158911 -0.339466 -0.461956  ...  1.188716  0.286160 -1.279387   \n",
            "4    -0.216013 -0.440426 -0.602942  ...  0.019214  0.618604  0.670135   \n",
            "...        ...       ...       ...  ...       ...       ...       ...   \n",
            "1168 -0.379961 -0.501564 -0.916232  ...  0.630247 -0.117586  0.187756   \n",
            "1169 -0.358282 -0.536881 -0.829398  ...  0.211799  0.954036  1.436616   \n",
            "1170 -0.523142 -0.254786 -0.368599  ... -0.233881  0.306676  0.100271   \n",
            "1171 -0.132551 -0.361462 -0.466918  ...  0.069182  0.124637 -0.163246   \n",
            "1172 -0.203775 -0.367119 -0.563925  ... -0.260977  0.051102 -0.012448   \n",
            "\n",
            "           265       266       267       268       269       270       271  \n",
            "0     0.450912  0.305984 -0.220846 -0.722603  0.689113  0.362702 -0.165015  \n",
            "1    -0.016874 -1.151057 -0.681207 -0.220963 -0.047108 -1.688541 -0.879828  \n",
            "2    -0.519928 -0.138216 -1.052451  0.522868  0.311874 -1.025871  3.577599  \n",
            "3    -0.552797 -0.488616  0.560972  0.337039 -0.993401 -0.006423  0.318077  \n",
            "4    -0.211519  1.229573 -0.664272  0.920935  2.163224 -0.471085  1.271354  \n",
            "...        ...       ...       ...       ...       ...       ...       ...  \n",
            "1168 -0.182297  0.417238 -0.226795 -0.100057 -0.653424  0.119273  0.339893  \n",
            "1169  0.412597  0.721663 -0.335336  0.220715 -0.504025  0.809319 -0.802885  \n",
            "1170  0.060158 -0.192417 -0.330247 -0.268627 -0.216758  0.058793 -0.531440  \n",
            "1171 -0.093652  0.108623 -0.680313 -0.107382  0.239330  0.307430 -0.137520  \n",
            "1172  0.022031  0.270410 -0.283089 -0.326554 -0.071252 -0.043305 -0.531686  \n",
            "\n",
            "[1173 rows x 272 columns]\n"
          ]
        }
      ],
      "source": [
        "#  from sklearn.decomposition import PCA\n",
        "#  from sklearn.preprocessing import StandardScaler\n",
        "\n",
        "\n",
        "# X = df_unique.iloc[:, 1:]  # Features (all columns except the last one)\n",
        "# y = df_unique.iloc[:, 0]   # Target (last column)\n",
        "\n",
        "# # # Drop irrelevant columns if necessary\n",
        "#   #  df = df.iloc[:, 1:]  # Example, assuming the first column is irrelevant\n",
        "\n",
        "# # # Standardize the data\n",
        "#  scaler = StandardScaler()\n",
        "#  scaled_data = scaler.fit_transform(df_unique)\n",
        "\n",
        "# # # Apply PCA and choose the number of components\n",
        "#  pca = PCA(n_components=0.95)  # Keep enough components to explain 95% of variance\n",
        "#  pca_result = pca.fit_transform(scaled_data)\n",
        "\n",
        "# # # Display the result\n",
        "#  print(\"Explained variance ratio of each component:\", pca.explained_variance_ratio_)\n",
        "#  print(\"Number of components:\", pca.n_components_)\n",
        "\n",
        "# # # If you want the transformed data\n",
        "#  transformed_data = pd.DataFrame(pca_result)\n",
        "\n",
        "# # # Display the transformed data\n",
        "#  print(transformed_data)\n"
      ]
    },
    {
      "cell_type": "code",
      "execution_count": null,
      "metadata": {
        "id": "k7O4ZgyAY5CD"
      },
      "outputs": [],
      "source": [
        "\n",
        "# from sklearn.model_selection import train_test_split\n",
        "# from sklearn.metrics import accuracy_score\n",
        "\n",
        "\n",
        "# X_train, X_test, y_train, y_test = train_test_split(X, y, test_size=0.2, random_state=42)"
      ]
    },
    {
      "cell_type": "code",
      "execution_count": null,
      "metadata": {
        "colab": {
          "base_uri": "https://localhost:8080/"
        },
        "id": "F28om22qZALy",
        "outputId": "2c2d8602-4948-4c46-dede-2d24e37c5fb9"
      },
      "outputs": [
        {
          "name": "stdout",
          "output_type": "stream",
          "text": [
            "Collecting scikeras\n",
            "  Downloading scikeras-0.13.0-py3-none-any.whl.metadata (3.1 kB)\n",
            "Requirement already satisfied: keras>=3.2.0 in /usr/local/lib/python3.11/dist-packages (from scikeras) (3.5.0)\n",
            "Requirement already satisfied: scikit-learn>=1.4.2 in /usr/local/lib/python3.11/dist-packages (from scikeras) (1.6.1)\n",
            "Requirement already satisfied: absl-py in /usr/local/lib/python3.11/dist-packages (from keras>=3.2.0->scikeras) (1.4.0)\n",
            "Requirement already satisfied: numpy in /usr/local/lib/python3.11/dist-packages (from keras>=3.2.0->scikeras) (1.26.4)\n",
            "Requirement already satisfied: rich in /usr/local/lib/python3.11/dist-packages (from keras>=3.2.0->scikeras) (13.9.4)\n",
            "Requirement already satisfied: namex in /usr/local/lib/python3.11/dist-packages (from keras>=3.2.0->scikeras) (0.0.8)\n",
            "Requirement already satisfied: h5py in /usr/local/lib/python3.11/dist-packages (from keras>=3.2.0->scikeras) (3.12.1)\n",
            "Requirement already satisfied: optree in /usr/local/lib/python3.11/dist-packages (from keras>=3.2.0->scikeras) (0.14.0)\n",
            "Requirement already satisfied: ml-dtypes in /usr/local/lib/python3.11/dist-packages (from keras>=3.2.0->scikeras) (0.4.1)\n",
            "Requirement already satisfied: packaging in /usr/local/lib/python3.11/dist-packages (from keras>=3.2.0->scikeras) (24.2)\n",
            "Requirement already satisfied: scipy>=1.6.0 in /usr/local/lib/python3.11/dist-packages (from scikit-learn>=1.4.2->scikeras) (1.13.1)\n",
            "Requirement already satisfied: joblib>=1.2.0 in /usr/local/lib/python3.11/dist-packages (from scikit-learn>=1.4.2->scikeras) (1.4.2)\n",
            "Requirement already satisfied: threadpoolctl>=3.1.0 in /usr/local/lib/python3.11/dist-packages (from scikit-learn>=1.4.2->scikeras) (3.5.0)\n",
            "Requirement already satisfied: typing-extensions>=4.5.0 in /usr/local/lib/python3.11/dist-packages (from optree->keras>=3.2.0->scikeras) (4.12.2)\n",
            "Requirement already satisfied: markdown-it-py>=2.2.0 in /usr/local/lib/python3.11/dist-packages (from rich->keras>=3.2.0->scikeras) (3.0.0)\n",
            "Requirement already satisfied: pygments<3.0.0,>=2.13.0 in /usr/local/lib/python3.11/dist-packages (from rich->keras>=3.2.0->scikeras) (2.19.1)\n",
            "Requirement already satisfied: mdurl~=0.1 in /usr/local/lib/python3.11/dist-packages (from markdown-it-py>=2.2.0->rich->keras>=3.2.0->scikeras) (0.1.2)\n",
            "Downloading scikeras-0.13.0-py3-none-any.whl (26 kB)\n",
            "Installing collected packages: scikeras\n",
            "Successfully installed scikeras-0.13.0\n",
            "Requirement already satisfied: scikit-learn in /usr/local/lib/python3.11/dist-packages (1.6.1)\n",
            "Requirement already satisfied: numpy>=1.19.5 in /usr/local/lib/python3.11/dist-packages (from scikit-learn) (1.26.4)\n",
            "Requirement already satisfied: scipy>=1.6.0 in /usr/local/lib/python3.11/dist-packages (from scikit-learn) (1.13.1)\n",
            "Requirement already satisfied: joblib>=1.2.0 in /usr/local/lib/python3.11/dist-packages (from scikit-learn) (1.4.2)\n",
            "Requirement already satisfied: threadpoolctl>=3.1.0 in /usr/local/lib/python3.11/dist-packages (from scikit-learn) (3.5.0)\n"
          ]
        }
      ],
      "source": [
        "# !pip install scikeras\n",
        "# !pip install --upgrade scikit-learn\n"
      ]
    },
    {
      "cell_type": "code",
      "execution_count": null,
      "metadata": {
        "colab": {
          "base_uri": "https://localhost:8080/",
          "height": 1000
        },
        "id": "YxU7l_gMavBK",
        "outputId": "4fdce655-1350-4f1c-a389-1775876d3195"
      },
      "outputs": [
        {
          "name": "stdout",
          "output_type": "stream",
          "text": [
            "Found existing installation: tensorflow 2.17.1\n",
            "Uninstalling tensorflow-2.17.1:\n",
            "  Successfully uninstalled tensorflow-2.17.1\n",
            "Collecting tensorflow\n",
            "  Downloading tensorflow-2.18.0-cp311-cp311-manylinux_2_17_x86_64.manylinux2014_x86_64.whl.metadata (4.1 kB)\n",
            "Requirement already satisfied: absl-py>=1.0.0 in /usr/local/lib/python3.11/dist-packages (from tensorflow) (1.4.0)\n",
            "Requirement already satisfied: astunparse>=1.6.0 in /usr/local/lib/python3.11/dist-packages (from tensorflow) (1.6.3)\n",
            "Requirement already satisfied: flatbuffers>=24.3.25 in /usr/local/lib/python3.11/dist-packages (from tensorflow) (25.1.24)\n",
            "Requirement already satisfied: gast!=0.5.0,!=0.5.1,!=0.5.2,>=0.2.1 in /usr/local/lib/python3.11/dist-packages (from tensorflow) (0.6.0)\n",
            "Requirement already satisfied: google-pasta>=0.1.1 in /usr/local/lib/python3.11/dist-packages (from tensorflow) (0.2.0)\n",
            "Requirement already satisfied: libclang>=13.0.0 in /usr/local/lib/python3.11/dist-packages (from tensorflow) (18.1.1)\n",
            "Requirement already satisfied: opt-einsum>=2.3.2 in /usr/local/lib/python3.11/dist-packages (from tensorflow) (3.4.0)\n",
            "Requirement already satisfied: packaging in /usr/local/lib/python3.11/dist-packages (from tensorflow) (24.2)\n",
            "Requirement already satisfied: protobuf!=4.21.0,!=4.21.1,!=4.21.2,!=4.21.3,!=4.21.4,!=4.21.5,<6.0.0dev,>=3.20.3 in /usr/local/lib/python3.11/dist-packages (from tensorflow) (4.25.6)\n",
            "Requirement already satisfied: requests<3,>=2.21.0 in /usr/local/lib/python3.11/dist-packages (from tensorflow) (2.32.3)\n",
            "Requirement already satisfied: setuptools in /usr/local/lib/python3.11/dist-packages (from tensorflow) (75.1.0)\n",
            "Requirement already satisfied: six>=1.12.0 in /usr/local/lib/python3.11/dist-packages (from tensorflow) (1.17.0)\n",
            "Requirement already satisfied: termcolor>=1.1.0 in /usr/local/lib/python3.11/dist-packages (from tensorflow) (2.5.0)\n",
            "Requirement already satisfied: typing-extensions>=3.6.6 in /usr/local/lib/python3.11/dist-packages (from tensorflow) (4.12.2)\n",
            "Requirement already satisfied: wrapt>=1.11.0 in /usr/local/lib/python3.11/dist-packages (from tensorflow) (1.17.2)\n",
            "Requirement already satisfied: grpcio<2.0,>=1.24.3 in /usr/local/lib/python3.11/dist-packages (from tensorflow) (1.70.0)\n",
            "Collecting tensorboard<2.19,>=2.18 (from tensorflow)\n",
            "  Downloading tensorboard-2.18.0-py3-none-any.whl.metadata (1.6 kB)\n",
            "Requirement already satisfied: keras>=3.5.0 in /usr/local/lib/python3.11/dist-packages (from tensorflow) (3.5.0)\n",
            "Requirement already satisfied: numpy<2.1.0,>=1.26.0 in /usr/local/lib/python3.11/dist-packages (from tensorflow) (1.26.4)\n",
            "Requirement already satisfied: h5py>=3.11.0 in /usr/local/lib/python3.11/dist-packages (from tensorflow) (3.12.1)\n",
            "Requirement already satisfied: ml-dtypes<0.5.0,>=0.4.0 in /usr/local/lib/python3.11/dist-packages (from tensorflow) (0.4.1)\n",
            "Requirement already satisfied: tensorflow-io-gcs-filesystem>=0.23.1 in /usr/local/lib/python3.11/dist-packages (from tensorflow) (0.37.1)\n",
            "Requirement already satisfied: wheel<1.0,>=0.23.0 in /usr/local/lib/python3.11/dist-packages (from astunparse>=1.6.0->tensorflow) (0.45.1)\n",
            "Requirement already satisfied: rich in /usr/local/lib/python3.11/dist-packages (from keras>=3.5.0->tensorflow) (13.9.4)\n",
            "Requirement already satisfied: namex in /usr/local/lib/python3.11/dist-packages (from keras>=3.5.0->tensorflow) (0.0.8)\n",
            "Requirement already satisfied: optree in /usr/local/lib/python3.11/dist-packages (from keras>=3.5.0->tensorflow) (0.14.0)\n",
            "Requirement already satisfied: charset-normalizer<4,>=2 in /usr/local/lib/python3.11/dist-packages (from requests<3,>=2.21.0->tensorflow) (3.4.1)\n",
            "Requirement already satisfied: idna<4,>=2.5 in /usr/local/lib/python3.11/dist-packages (from requests<3,>=2.21.0->tensorflow) (3.10)\n",
            "Requirement already satisfied: urllib3<3,>=1.21.1 in /usr/local/lib/python3.11/dist-packages (from requests<3,>=2.21.0->tensorflow) (2.3.0)\n",
            "Requirement already satisfied: certifi>=2017.4.17 in /usr/local/lib/python3.11/dist-packages (from requests<3,>=2.21.0->tensorflow) (2024.12.14)\n",
            "Requirement already satisfied: markdown>=2.6.8 in /usr/local/lib/python3.11/dist-packages (from tensorboard<2.19,>=2.18->tensorflow) (3.7)\n",
            "Requirement already satisfied: tensorboard-data-server<0.8.0,>=0.7.0 in /usr/local/lib/python3.11/dist-packages (from tensorboard<2.19,>=2.18->tensorflow) (0.7.2)\n",
            "Requirement already satisfied: werkzeug>=1.0.1 in /usr/local/lib/python3.11/dist-packages (from tensorboard<2.19,>=2.18->tensorflow) (3.1.3)\n",
            "Requirement already satisfied: MarkupSafe>=2.1.1 in /usr/local/lib/python3.11/dist-packages (from werkzeug>=1.0.1->tensorboard<2.19,>=2.18->tensorflow) (3.0.2)\n",
            "Requirement already satisfied: markdown-it-py>=2.2.0 in /usr/local/lib/python3.11/dist-packages (from rich->keras>=3.5.0->tensorflow) (3.0.0)\n",
            "Requirement already satisfied: pygments<3.0.0,>=2.13.0 in /usr/local/lib/python3.11/dist-packages (from rich->keras>=3.5.0->tensorflow) (2.19.1)\n",
            "Requirement already satisfied: mdurl~=0.1 in /usr/local/lib/python3.11/dist-packages (from markdown-it-py>=2.2.0->rich->keras>=3.5.0->tensorflow) (0.1.2)\n",
            "Downloading tensorflow-2.18.0-cp311-cp311-manylinux_2_17_x86_64.manylinux2014_x86_64.whl (615.4 MB)\n",
            "\u001b[2K   \u001b[90m━━━━━━━━━━━━━━━━━━━━━━━━━━━━━━━━━━━━━━━━\u001b[0m \u001b[32m615.4/615.4 MB\u001b[0m \u001b[31m1.7 MB/s\u001b[0m eta \u001b[36m0:00:00\u001b[0m\n",
            "\u001b[?25hDownloading tensorboard-2.18.0-py3-none-any.whl (5.5 MB)\n",
            "\u001b[2K   \u001b[90m━━━━━━━━━━━━━━━━━━━━━━━━━━━━━━━━━━━━━━━━\u001b[0m \u001b[32m5.5/5.5 MB\u001b[0m \u001b[31m84.4 MB/s\u001b[0m eta \u001b[36m0:00:00\u001b[0m\n",
            "\u001b[?25hInstalling collected packages: tensorboard, tensorflow\n",
            "  Attempting uninstall: tensorboard\n",
            "    Found existing installation: tensorboard 2.17.1\n",
            "    Uninstalling tensorboard-2.17.1:\n",
            "      Successfully uninstalled tensorboard-2.17.1\n",
            "\u001b[31mERROR: pip's dependency resolver does not currently take into account all the packages that are installed. This behaviour is the source of the following dependency conflicts.\n",
            "tensorflow-text 2.17.0 requires tensorflow<2.18,>=2.17.0, but you have tensorflow 2.18.0 which is incompatible.\n",
            "tf-keras 2.17.0 requires tensorflow<2.18,>=2.17, but you have tensorflow 2.18.0 which is incompatible.\u001b[0m\u001b[31m\n",
            "\u001b[0mSuccessfully installed tensorboard-2.18.0 tensorflow-2.18.0\n"
          ]
        },
        {
          "data": {
            "application/vnd.colab-display-data+json": {
              "id": "7ba4aa7ebe2b41d2b05bef06f354b69d",
              "pip_warning": {
                "packages": [
                  "tensorflow"
                ]
              }
            }
          },
          "metadata": {},
          "output_type": "display_data"
        },
        {
          "name": "stdout",
          "output_type": "stream",
          "text": [
            "Requirement already satisfied: tensorflow in /usr/local/lib/python3.11/dist-packages (2.18.0)\n",
            "Requirement already satisfied: absl-py>=1.0.0 in /usr/local/lib/python3.11/dist-packages (from tensorflow) (1.4.0)\n",
            "Requirement already satisfied: astunparse>=1.6.0 in /usr/local/lib/python3.11/dist-packages (from tensorflow) (1.6.3)\n",
            "Requirement already satisfied: flatbuffers>=24.3.25 in /usr/local/lib/python3.11/dist-packages (from tensorflow) (25.1.24)\n",
            "Requirement already satisfied: gast!=0.5.0,!=0.5.1,!=0.5.2,>=0.2.1 in /usr/local/lib/python3.11/dist-packages (from tensorflow) (0.6.0)\n",
            "Requirement already satisfied: google-pasta>=0.1.1 in /usr/local/lib/python3.11/dist-packages (from tensorflow) (0.2.0)\n",
            "Requirement already satisfied: libclang>=13.0.0 in /usr/local/lib/python3.11/dist-packages (from tensorflow) (18.1.1)\n",
            "Requirement already satisfied: opt-einsum>=2.3.2 in /usr/local/lib/python3.11/dist-packages (from tensorflow) (3.4.0)\n",
            "Requirement already satisfied: packaging in /usr/local/lib/python3.11/dist-packages (from tensorflow) (24.2)\n",
            "Requirement already satisfied: protobuf!=4.21.0,!=4.21.1,!=4.21.2,!=4.21.3,!=4.21.4,!=4.21.5,<6.0.0dev,>=3.20.3 in /usr/local/lib/python3.11/dist-packages (from tensorflow) (4.25.6)\n",
            "Requirement already satisfied: requests<3,>=2.21.0 in /usr/local/lib/python3.11/dist-packages (from tensorflow) (2.32.3)\n",
            "Requirement already satisfied: setuptools in /usr/local/lib/python3.11/dist-packages (from tensorflow) (75.1.0)\n",
            "Requirement already satisfied: six>=1.12.0 in /usr/local/lib/python3.11/dist-packages (from tensorflow) (1.17.0)\n",
            "Requirement already satisfied: termcolor>=1.1.0 in /usr/local/lib/python3.11/dist-packages (from tensorflow) (2.5.0)\n",
            "Requirement already satisfied: typing-extensions>=3.6.6 in /usr/local/lib/python3.11/dist-packages (from tensorflow) (4.12.2)\n",
            "Requirement already satisfied: wrapt>=1.11.0 in /usr/local/lib/python3.11/dist-packages (from tensorflow) (1.17.2)\n",
            "Requirement already satisfied: grpcio<2.0,>=1.24.3 in /usr/local/lib/python3.11/dist-packages (from tensorflow) (1.70.0)\n",
            "Requirement already satisfied: tensorboard<2.19,>=2.18 in /usr/local/lib/python3.11/dist-packages (from tensorflow) (2.18.0)\n",
            "Requirement already satisfied: keras>=3.5.0 in /usr/local/lib/python3.11/dist-packages (from tensorflow) (3.5.0)\n",
            "Requirement already satisfied: numpy<2.1.0,>=1.26.0 in /usr/local/lib/python3.11/dist-packages (from tensorflow) (1.26.4)\n",
            "Requirement already satisfied: h5py>=3.11.0 in /usr/local/lib/python3.11/dist-packages (from tensorflow) (3.12.1)\n",
            "Requirement already satisfied: ml-dtypes<0.5.0,>=0.4.0 in /usr/local/lib/python3.11/dist-packages (from tensorflow) (0.4.1)\n",
            "Requirement already satisfied: tensorflow-io-gcs-filesystem>=0.23.1 in /usr/local/lib/python3.11/dist-packages (from tensorflow) (0.37.1)\n",
            "Requirement already satisfied: wheel<1.0,>=0.23.0 in /usr/local/lib/python3.11/dist-packages (from astunparse>=1.6.0->tensorflow) (0.45.1)\n",
            "Requirement already satisfied: rich in /usr/local/lib/python3.11/dist-packages (from keras>=3.5.0->tensorflow) (13.9.4)\n",
            "Requirement already satisfied: namex in /usr/local/lib/python3.11/dist-packages (from keras>=3.5.0->tensorflow) (0.0.8)\n",
            "Requirement already satisfied: optree in /usr/local/lib/python3.11/dist-packages (from keras>=3.5.0->tensorflow) (0.14.0)\n",
            "Requirement already satisfied: charset-normalizer<4,>=2 in /usr/local/lib/python3.11/dist-packages (from requests<3,>=2.21.0->tensorflow) (3.4.1)\n",
            "Requirement already satisfied: idna<4,>=2.5 in /usr/local/lib/python3.11/dist-packages (from requests<3,>=2.21.0->tensorflow) (3.10)\n",
            "Requirement already satisfied: urllib3<3,>=1.21.1 in /usr/local/lib/python3.11/dist-packages (from requests<3,>=2.21.0->tensorflow) (2.3.0)\n",
            "Requirement already satisfied: certifi>=2017.4.17 in /usr/local/lib/python3.11/dist-packages (from requests<3,>=2.21.0->tensorflow) (2024.12.14)\n",
            "Requirement already satisfied: markdown>=2.6.8 in /usr/local/lib/python3.11/dist-packages (from tensorboard<2.19,>=2.18->tensorflow) (3.7)\n",
            "Requirement already satisfied: tensorboard-data-server<0.8.0,>=0.7.0 in /usr/local/lib/python3.11/dist-packages (from tensorboard<2.19,>=2.18->tensorflow) (0.7.2)\n",
            "Requirement already satisfied: werkzeug>=1.0.1 in /usr/local/lib/python3.11/dist-packages (from tensorboard<2.19,>=2.18->tensorflow) (3.1.3)\n",
            "Requirement already satisfied: MarkupSafe>=2.1.1 in /usr/local/lib/python3.11/dist-packages (from werkzeug>=1.0.1->tensorboard<2.19,>=2.18->tensorflow) (3.0.2)\n",
            "Requirement already satisfied: markdown-it-py>=2.2.0 in /usr/local/lib/python3.11/dist-packages (from rich->keras>=3.5.0->tensorflow) (3.0.0)\n",
            "Requirement already satisfied: pygments<3.0.0,>=2.13.0 in /usr/local/lib/python3.11/dist-packages (from rich->keras>=3.5.0->tensorflow) (2.19.1)\n",
            "Requirement already satisfied: mdurl~=0.1 in /usr/local/lib/python3.11/dist-packages (from markdown-it-py>=2.2.0->rich->keras>=3.5.0->tensorflow) (0.1.2)\n",
            "Get:1 https://cloud.r-project.org/bin/linux/ubuntu jammy-cran40/ InRelease [3,626 B]\n",
            "Get:2 http://security.ubuntu.com/ubuntu jammy-security InRelease [129 kB]\n",
            "Get:3 https://r2u.stat.illinois.edu/ubuntu jammy InRelease [6,555 B]\n",
            "Hit:4 http://archive.ubuntu.com/ubuntu jammy InRelease\n",
            "Get:5 http://archive.ubuntu.com/ubuntu jammy-updates InRelease [128 kB]\n",
            "Get:6 https://r2u.stat.illinois.edu/ubuntu jammy/main all Packages [8,637 kB]\n",
            "Hit:7 https://ppa.launchpadcontent.net/deadsnakes/ppa/ubuntu jammy InRelease\n",
            "Hit:8 https://ppa.launchpadcontent.net/ubuntugis/ppa/ubuntu jammy InRelease\n",
            "Get:9 http://security.ubuntu.com/ubuntu jammy-security/universe amd64 Packages [1,229 kB]\n",
            "Get:10 https://r2u.stat.illinois.edu/ubuntu jammy/main amd64 Packages [2,650 kB]\n",
            "Get:11 http://security.ubuntu.com/ubuntu jammy-security/main amd64 Packages [2,604 kB]\n",
            "Get:12 http://archive.ubuntu.com/ubuntu jammy-backports InRelease [127 kB]\n",
            "Get:13 http://archive.ubuntu.com/ubuntu jammy-updates/main amd64 Packages [2,904 kB]\n",
            "Get:14 http://archive.ubuntu.com/ubuntu jammy-updates/universe amd64 Packages [1,521 kB]\n",
            "Fetched 19.9 MB in 2s (10.9 MB/s)\n",
            "Reading package lists... Done\n",
            "W: Skipping acquire of configured file 'main/source/Sources' as repository 'https://r2u.stat.illinois.edu/ubuntu jammy InRelease' does not seem to provide it (sources.list entry misspelt?)\n",
            "Reading package lists... Done\n",
            "Building dependency tree... Done\n",
            "Reading state information... Done\n",
            "E: Unable to locate package libcusolver10\n",
            "Hit:1 https://cloud.r-project.org/bin/linux/ubuntu jammy-cran40/ InRelease\n",
            "Hit:2 http://security.ubuntu.com/ubuntu jammy-security InRelease\n",
            "Hit:3 https://r2u.stat.illinois.edu/ubuntu jammy InRelease\n",
            "Hit:4 http://archive.ubuntu.com/ubuntu jammy InRelease\n",
            "Hit:5 http://archive.ubuntu.com/ubuntu jammy-updates InRelease\n",
            "Hit:6 http://archive.ubuntu.com/ubuntu jammy-backports InRelease\n",
            "Hit:7 https://ppa.launchpadcontent.net/deadsnakes/ppa/ubuntu jammy InRelease\n",
            "Hit:8 https://ppa.launchpadcontent.net/ubuntugis/ppa/ubuntu jammy InRelease\n",
            "Reading package lists... Done\n",
            "W: Skipping acquire of configured file 'main/source/Sources' as repository 'https://r2u.stat.illinois.edu/ubuntu jammy InRelease' does not seem to provide it (sources.list entry misspelt?)\n",
            "Reading package lists... Done\n",
            "Building dependency tree... Done\n",
            "Reading state information... Done\n",
            "E: Unable to locate package libcusolver10\n"
          ]
        }
      ],
      "source": [
        "# !pip uninstall tensorflow -y\n",
        "# !pip install tensorflow\n",
        "# !pip install --upgrade tensorflow\n",
        "# !apt-get update && apt-get install -y libcusolver10\n",
        "# !apt-get update && apt-get install -y libcusolver10\n"
      ]
    },
    {
      "cell_type": "code",
      "execution_count": null,
      "metadata": {
        "colab": {
          "base_uri": "https://localhost:8080/"
        },
        "id": "DEoR7VoEnHnW",
        "outputId": "3d7d5f29-6eea-4247-c23d-7de82423a757"
      },
      "outputs": [
        {
          "name": "stdout",
          "output_type": "stream",
          "text": [
            "Archive:  dataset.zip\n",
            "  inflating: dataset/API_Functions.csv  \n",
            "  inflating: dataset/portable_executable.csv  \n",
            "  inflating: dataset/DLLs_Imported.csv  \n",
            "  inflating: dataset/test.csv        \n"
          ]
        }
      ],
      "source": [
        "# !unzip dataset.zip"
      ]
    },
    {
      "cell_type": "code",
      "execution_count": null,
      "metadata": {
        "colab": {
          "base_uri": "https://localhost:8080/",
          "height": 564
        },
        "id": "YGoLJSUsoZnw",
        "outputId": "c8700aa3-6f89-4f8a-ff5d-542ac59b5e48"
      },
      "outputs": [
        {
          "name": "stdout",
          "output_type": "stream",
          "text": [
            "Collecting dask\n",
            "  Downloading dask-2025.1.0-py3-none-any.whl.metadata (3.8 kB)\n",
            "Requirement already satisfied: click>=8.1 in /usr/local/lib/python3.11/dist-packages (from dask) (8.1.8)\n",
            "Requirement already satisfied: cloudpickle>=3.0.0 in /usr/local/lib/python3.11/dist-packages (from dask) (3.1.1)\n",
            "Requirement already satisfied: fsspec>=2021.09.0 in /usr/local/lib/python3.11/dist-packages (from dask) (2024.12.0)\n",
            "Requirement already satisfied: packaging>=20.0 in /usr/local/lib/python3.11/dist-packages (from dask) (24.2)\n",
            "Collecting partd>=1.4.0 (from dask)\n",
            "  Downloading partd-1.4.2-py3-none-any.whl.metadata (4.6 kB)\n",
            "Requirement already satisfied: pyyaml>=5.3.1 in /usr/local/lib/python3.11/dist-packages (from dask) (6.0.2)\n",
            "Requirement already satisfied: toolz>=0.10.0 in /usr/local/lib/python3.11/dist-packages (from dask) (1.0.0)\n",
            "Collecting importlib_metadata>=4.13.0 (from dask)\n",
            "  Downloading importlib_metadata-8.6.1-py3-none-any.whl.metadata (4.7 kB)\n",
            "Requirement already satisfied: zipp>=3.20 in /usr/local/lib/python3.11/dist-packages (from importlib_metadata>=4.13.0->dask) (3.21.0)\n",
            "Collecting locket (from partd>=1.4.0->dask)\n",
            "  Downloading locket-1.0.0-py2.py3-none-any.whl.metadata (2.8 kB)\n",
            "Downloading dask-2025.1.0-py3-none-any.whl (1.4 MB)\n",
            "\u001b[2K   \u001b[90m━━━━━━━━━━━━━━━━━━━━━━━━━━━━━━━━━━━━━━━━\u001b[0m \u001b[32m1.4/1.4 MB\u001b[0m \u001b[31m13.9 MB/s\u001b[0m eta \u001b[36m0:00:00\u001b[0m\n",
            "\u001b[?25hDownloading importlib_metadata-8.6.1-py3-none-any.whl (26 kB)\n",
            "Downloading partd-1.4.2-py3-none-any.whl (18 kB)\n",
            "Downloading locket-1.0.0-py2.py3-none-any.whl (4.4 kB)\n",
            "Installing collected packages: locket, importlib_metadata, partd, dask\n",
            "  Attempting uninstall: importlib_metadata\n",
            "    Found existing installation: importlib-metadata 4.6.4\n",
            "    Uninstalling importlib-metadata-4.6.4:\n",
            "      Successfully uninstalled importlib-metadata-4.6.4\n",
            "Successfully installed dask-2025.1.0 importlib_metadata-8.6.1 locket-1.0.0 partd-1.4.2\n"
          ]
        },
        {
          "data": {
            "application/vnd.colab-display-data+json": {
              "id": "83b149ebc6f7480eb36c18a9d613f7f7",
              "pip_warning": {
                "packages": [
                  "importlib_metadata"
                ]
              }
            }
          },
          "metadata": {},
          "output_type": "display_data"
        }
      ],
      "source": [
        "!pip install dask"
      ]
    },
    {
      "cell_type": "code",
      "execution_count": null,
      "metadata": {
        "colab": {
          "base_uri": "https://localhost:8080/"
        },
        "id": "sbnQorjAZFi-",
        "outputId": "4de0142a-bce5-47f0-f02a-a440636df370"
      },
      "outputs": [
        {
          "name": "stdout",
          "output_type": "stream",
          "text": [
            "                                           unique_id  Type_x  e_magic  e_cblp  \\\n",
            "0  00b6ac9409a35efd54cd1cfeade841d0be7f223364c0ae...       2    23117     144   \n",
            "1  00d657bf022c8b1fac5573a4dd36e46039f7b549584674...       3    23117      80   \n",
            "2  00ef7306ec99508a0af3f7a2aaad16d62b10239bf75a40...       4    23117     144   \n",
            "3  00feff5f243cf8c8d7622448bbc5e1fa34df87b13ffeeb...       3    23117     144   \n",
            "4  011af3a69ca68178ed40d746cb4f6b108b954290afb53d...       4    23117     144   \n",
            "\n",
            "   e_cp  e_crlc  e_cparhdr  e_minalloc  e_maxalloc  e_ss  ...  drawdibclose  \\\n",
            "0     3       0          4           0       65535     0  ...             0   \n",
            "1     2       0          4          15       65535     0  ...             0   \n",
            "2     3       0          4           0       65535     0  ...             0   \n",
            "3     3       0          4           0       65535     0  ...             0   \n",
            "4     3       0          4           0       65535     0  ...             0   \n",
            "\n",
            "   ord1107  wsasetblockinghook  setupinstallfileexa  setupterminatefilelog  \\\n",
            "0        0                   0                    0                      0   \n",
            "1        0                   0                    0                      0   \n",
            "2        0                   0                    0                      0   \n",
            "3        0                   0                    0                      0   \n",
            "4        0                   0                    0                      0   \n",
            "\n",
            "   setuplogfilew  setupopenmasterinf  setupinstallfileexw  setupgetlinecountw  \\\n",
            "0              0                   0                    0                   0   \n",
            "1              0                   0                    0                   0   \n",
            "2              0                   0                    0                   0   \n",
            "3              0                   0                    0                   0   \n",
            "4              0                   0                    0                   0   \n",
            "\n",
            "   setupdigethwprofilefriendlynameexw  \n",
            "0                                   0  \n",
            "1                                   0  \n",
            "2                                   0  \n",
            "3                                   0  \n",
            "4                                   0  \n",
            "\n",
            "[5 rows x 22693 columns]\n"
          ]
        }
      ],
      "source": [
        "import pandas as pd\n",
        "import dask.dataframe as dd\n",
        "# Load the three datasets using Dask\n",
        "df_pe = dd.read_csv(\"/content/dataset/portable_executable.csv\", sample=10000000)  # Replace with actual file path\n",
        "df_dll = dd.read_csv(\"/content/dataset/DLLs_Imported.csv\", sample=10000000)       # Replace with actual file path\n",
        "df_api = dd.read_csv(\"/content/dataset/API_Functions.csv\", sample=10000000)      # Replace with actual file path\n",
        "\n",
        "# Ensure the unique ID column is named consistently across datasets\n",
        "# Assuming the unique ID column is named \"hash\" in all datasets\n",
        "df_pe = df_pe.rename(columns={\"SHA256\": \"unique_id\"})\n",
        "df_dll = df_dll.rename(columns={\"SHA256\": \"unique_id\"})\n",
        "df_api = df_api.rename(columns={\"SHA256\": \"unique_id\"})\n",
        "\n",
        "\n",
        "# Merge the datasets on the unique ID\n",
        "# Use an outer join to ensure all entries are included, even if some datasets are missing certain IDs\n",
        "combined_df = dd.merge(df_pe, df_dll, on=\"unique_id\", how=\"outer\")\n",
        "combined_df = dd.merge(combined_df, df_api, on=\"unique_id\", how=\"outer\")\n",
        "\n",
        "# Drop duplicate rows based on the unique ID\n",
        "combined_df = combined_df.drop_duplicates(subset=\"unique_id\")\n",
        "\n",
        "# Persist the combined dataframe to speed up further operations\n",
        "combined_df = combined_df.persist()\n",
        "\n",
        "# Save the combined dataset to a new CSV file\n",
        "combined_df.to_csv(\"combined_dataset.csv\", index=False, single_file=True)\n",
        "\n",
        "# Optional: Compute the combined dataframe to check the result\n",
        "combined_df_computed = combined_df.compute()\n"
      ]
    },
    {
      "cell_type": "code",
      "execution_count": null,
      "metadata": {
        "colab": {
          "base_uri": "https://localhost:8080/"
        },
        "id": "bsFesW0GvDFa",
        "outputId": "c84e2f65-4325-4691-bd9c-2ca34693072a"
      },
      "outputs": [
        {
          "data": {
            "text/plain": [
              "(28014, 22693)"
            ]
          },
          "execution_count": 6,
          "metadata": {},
          "output_type": "execute_result"
        }
      ],
      "source": [
        "combined_df_computed.shape"
      ]
    },
    {
      "cell_type": "code",
      "execution_count": null,
      "metadata": {
        "id": "bKefe70zznXk"
      },
      "outputs": [],
      "source": [
        "import pandas as pd\n",
        "\n",
        "dlsha = pd.read_csv(\"/content/dataset/DLLs_Imported.csv\", usecols=['SHA256'])"
      ]
    },
    {
      "cell_type": "code",
      "execution_count": null,
      "metadata": {
        "colab": {
          "base_uri": "https://localhost:8080/"
        },
        "id": "IebAQk0b0Qcn",
        "outputId": "943b1bb9-83d4-4bfa-af36-2dde69ee5c46"
      },
      "outputs": [
        {
          "data": {
            "text/plain": [
              "(28016, 1)"
            ]
          },
          "execution_count": 15,
          "metadata": {},
          "output_type": "execute_result"
        }
      ],
      "source": [
        "dlsha.shape"
      ]
    },
    {
      "cell_type": "code",
      "execution_count": null,
      "metadata": {
        "colab": {
          "base_uri": "https://localhost:8080/",
          "height": 423
        },
        "id": "SN6vMQPn1yS6",
        "outputId": "997c5add-376c-4c27-c41f-b708e949b98e"
      },
      "outputs": [
        {
          "data": {
            "application/vnd.google.colaboratory.intrinsic+json": {
              "summary": "{\n  \"name\": \"dlsha\",\n  \"rows\": 28014,\n  \"fields\": [\n    {\n      \"column\": \"SHA256\",\n      \"properties\": {\n        \"dtype\": \"string\",\n        \"num_unique_values\": 28014,\n        \"samples\": [\n          \"133c3f5b52a44b898658535cd20d2cb1b202753da6ae8663d765a15584974d39\",\n          \"776faf7782df5bb33de7480c6279fa94b9199bf9ee8f81c0c7a65db1e7818a51\",\n          \"4e4937d04ce933221fad993e7db49a096f11cefbe11c593da9041d5e375d6119\"\n        ],\n        \"semantic_type\": \"\",\n        \"description\": \"\"\n      }\n    }\n  ]\n}",
              "type": "dataframe"
            },
            "text/html": [
              "\n",
              "  <div id=\"df-beaba9a1-9bfa-4e52-b5e0-42c3b2fe0ccc\" class=\"colab-df-container\">\n",
              "    <div>\n",
              "<style scoped>\n",
              "    .dataframe tbody tr th:only-of-type {\n",
              "        vertical-align: middle;\n",
              "    }\n",
              "\n",
              "    .dataframe tbody tr th {\n",
              "        vertical-align: top;\n",
              "    }\n",
              "\n",
              "    .dataframe thead th {\n",
              "        text-align: right;\n",
              "    }\n",
              "</style>\n",
              "<table border=\"1\" class=\"dataframe\">\n",
              "  <thead>\n",
              "    <tr style=\"text-align: right;\">\n",
              "      <th></th>\n",
              "      <th>SHA256</th>\n",
              "    </tr>\n",
              "  </thead>\n",
              "  <tbody>\n",
              "    <tr>\n",
              "      <th>0</th>\n",
              "      <td>2a053f32b1d48539e3e2807f86754be87ce95b08378467...</td>\n",
              "    </tr>\n",
              "    <tr>\n",
              "      <th>1</th>\n",
              "      <td>2f031a1752f7067fb9f483ae0ac5f3036c9b66cc4af40e...</td>\n",
              "    </tr>\n",
              "    <tr>\n",
              "      <th>2</th>\n",
              "      <td>308e8bb2e8a3b67607d2454370e0b50147b42049bda813...</td>\n",
              "    </tr>\n",
              "    <tr>\n",
              "      <th>3</th>\n",
              "      <td>31aaba443b9869e6e68c17125f8d7989cbd762fb38ae3a...</td>\n",
              "    </tr>\n",
              "    <tr>\n",
              "      <th>4</th>\n",
              "      <td>373d0778d083a04943032826a3571e5e8d450a9535f5a9...</td>\n",
              "    </tr>\n",
              "    <tr>\n",
              "      <th>...</th>\n",
              "      <td>...</td>\n",
              "    </tr>\n",
              "    <tr>\n",
              "      <th>28011</th>\n",
              "      <td>d1c923ec32d09be96adf3ba85e1855402f782b74437534...</td>\n",
              "    </tr>\n",
              "    <tr>\n",
              "      <th>28012</th>\n",
              "      <td>d1dfc3203d99c0d54351bebd876762f27c0073e3cfef9a...</td>\n",
              "    </tr>\n",
              "    <tr>\n",
              "      <th>28013</th>\n",
              "      <td>d1fea52507fc97ff419f8dd2ea8ecf689fb7c066cf8f18...</td>\n",
              "    </tr>\n",
              "    <tr>\n",
              "      <th>28014</th>\n",
              "      <td>d201d8488d316c9ab7d537545efeda284568a652f23db1...</td>\n",
              "    </tr>\n",
              "    <tr>\n",
              "      <th>28015</th>\n",
              "      <td>d207f51e336ab58868189d7826ef4fa2c897ae606ea744...</td>\n",
              "    </tr>\n",
              "  </tbody>\n",
              "</table>\n",
              "<p>28014 rows × 1 columns</p>\n",
              "</div>\n",
              "    <div class=\"colab-df-buttons\">\n",
              "\n",
              "  <div class=\"colab-df-container\">\n",
              "    <button class=\"colab-df-convert\" onclick=\"convertToInteractive('df-beaba9a1-9bfa-4e52-b5e0-42c3b2fe0ccc')\"\n",
              "            title=\"Convert this dataframe to an interactive table.\"\n",
              "            style=\"display:none;\">\n",
              "\n",
              "  <svg xmlns=\"http://www.w3.org/2000/svg\" height=\"24px\" viewBox=\"0 -960 960 960\">\n",
              "    <path d=\"M120-120v-720h720v720H120Zm60-500h600v-160H180v160Zm220 220h160v-160H400v160Zm0 220h160v-160H400v160ZM180-400h160v-160H180v160Zm440 0h160v-160H620v160ZM180-180h160v-160H180v160Zm440 0h160v-160H620v160Z\"/>\n",
              "  </svg>\n",
              "    </button>\n",
              "\n",
              "  <style>\n",
              "    .colab-df-container {\n",
              "      display:flex;\n",
              "      gap: 12px;\n",
              "    }\n",
              "\n",
              "    .colab-df-convert {\n",
              "      background-color: #E8F0FE;\n",
              "      border: none;\n",
              "      border-radius: 50%;\n",
              "      cursor: pointer;\n",
              "      display: none;\n",
              "      fill: #1967D2;\n",
              "      height: 32px;\n",
              "      padding: 0 0 0 0;\n",
              "      width: 32px;\n",
              "    }\n",
              "\n",
              "    .colab-df-convert:hover {\n",
              "      background-color: #E2EBFA;\n",
              "      box-shadow: 0px 1px 2px rgba(60, 64, 67, 0.3), 0px 1px 3px 1px rgba(60, 64, 67, 0.15);\n",
              "      fill: #174EA6;\n",
              "    }\n",
              "\n",
              "    .colab-df-buttons div {\n",
              "      margin-bottom: 4px;\n",
              "    }\n",
              "\n",
              "    [theme=dark] .colab-df-convert {\n",
              "      background-color: #3B4455;\n",
              "      fill: #D2E3FC;\n",
              "    }\n",
              "\n",
              "    [theme=dark] .colab-df-convert:hover {\n",
              "      background-color: #434B5C;\n",
              "      box-shadow: 0px 1px 3px 1px rgba(0, 0, 0, 0.15);\n",
              "      filter: drop-shadow(0px 1px 2px rgba(0, 0, 0, 0.3));\n",
              "      fill: #FFFFFF;\n",
              "    }\n",
              "  </style>\n",
              "\n",
              "    <script>\n",
              "      const buttonEl =\n",
              "        document.querySelector('#df-beaba9a1-9bfa-4e52-b5e0-42c3b2fe0ccc button.colab-df-convert');\n",
              "      buttonEl.style.display =\n",
              "        google.colab.kernel.accessAllowed ? 'block' : 'none';\n",
              "\n",
              "      async function convertToInteractive(key) {\n",
              "        const element = document.querySelector('#df-beaba9a1-9bfa-4e52-b5e0-42c3b2fe0ccc');\n",
              "        const dataTable =\n",
              "          await google.colab.kernel.invokeFunction('convertToInteractive',\n",
              "                                                    [key], {});\n",
              "        if (!dataTable) return;\n",
              "\n",
              "        const docLinkHtml = 'Like what you see? Visit the ' +\n",
              "          '<a target=\"_blank\" href=https://colab.research.google.com/notebooks/data_table.ipynb>data table notebook</a>'\n",
              "          + ' to learn more about interactive tables.';\n",
              "        element.innerHTML = '';\n",
              "        dataTable['output_type'] = 'display_data';\n",
              "        await google.colab.output.renderOutput(dataTable, element);\n",
              "        const docLink = document.createElement('div');\n",
              "        docLink.innerHTML = docLinkHtml;\n",
              "        element.appendChild(docLink);\n",
              "      }\n",
              "    </script>\n",
              "  </div>\n",
              "\n",
              "\n",
              "<div id=\"df-7472c1a8-b791-4b0e-81f0-23f9efa26445\">\n",
              "  <button class=\"colab-df-quickchart\" onclick=\"quickchart('df-7472c1a8-b791-4b0e-81f0-23f9efa26445')\"\n",
              "            title=\"Suggest charts\"\n",
              "            style=\"display:none;\">\n",
              "\n",
              "<svg xmlns=\"http://www.w3.org/2000/svg\" height=\"24px\"viewBox=\"0 0 24 24\"\n",
              "     width=\"24px\">\n",
              "    <g>\n",
              "        <path d=\"M19 3H5c-1.1 0-2 .9-2 2v14c0 1.1.9 2 2 2h14c1.1 0 2-.9 2-2V5c0-1.1-.9-2-2-2zM9 17H7v-7h2v7zm4 0h-2V7h2v10zm4 0h-2v-4h2v4z\"/>\n",
              "    </g>\n",
              "</svg>\n",
              "  </button>\n",
              "\n",
              "<style>\n",
              "  .colab-df-quickchart {\n",
              "      --bg-color: #E8F0FE;\n",
              "      --fill-color: #1967D2;\n",
              "      --hover-bg-color: #E2EBFA;\n",
              "      --hover-fill-color: #174EA6;\n",
              "      --disabled-fill-color: #AAA;\n",
              "      --disabled-bg-color: #DDD;\n",
              "  }\n",
              "\n",
              "  [theme=dark] .colab-df-quickchart {\n",
              "      --bg-color: #3B4455;\n",
              "      --fill-color: #D2E3FC;\n",
              "      --hover-bg-color: #434B5C;\n",
              "      --hover-fill-color: #FFFFFF;\n",
              "      --disabled-bg-color: #3B4455;\n",
              "      --disabled-fill-color: #666;\n",
              "  }\n",
              "\n",
              "  .colab-df-quickchart {\n",
              "    background-color: var(--bg-color);\n",
              "    border: none;\n",
              "    border-radius: 50%;\n",
              "    cursor: pointer;\n",
              "    display: none;\n",
              "    fill: var(--fill-color);\n",
              "    height: 32px;\n",
              "    padding: 0;\n",
              "    width: 32px;\n",
              "  }\n",
              "\n",
              "  .colab-df-quickchart:hover {\n",
              "    background-color: var(--hover-bg-color);\n",
              "    box-shadow: 0 1px 2px rgba(60, 64, 67, 0.3), 0 1px 3px 1px rgba(60, 64, 67, 0.15);\n",
              "    fill: var(--button-hover-fill-color);\n",
              "  }\n",
              "\n",
              "  .colab-df-quickchart-complete:disabled,\n",
              "  .colab-df-quickchart-complete:disabled:hover {\n",
              "    background-color: var(--disabled-bg-color);\n",
              "    fill: var(--disabled-fill-color);\n",
              "    box-shadow: none;\n",
              "  }\n",
              "\n",
              "  .colab-df-spinner {\n",
              "    border: 2px solid var(--fill-color);\n",
              "    border-color: transparent;\n",
              "    border-bottom-color: var(--fill-color);\n",
              "    animation:\n",
              "      spin 1s steps(1) infinite;\n",
              "  }\n",
              "\n",
              "  @keyframes spin {\n",
              "    0% {\n",
              "      border-color: transparent;\n",
              "      border-bottom-color: var(--fill-color);\n",
              "      border-left-color: var(--fill-color);\n",
              "    }\n",
              "    20% {\n",
              "      border-color: transparent;\n",
              "      border-left-color: var(--fill-color);\n",
              "      border-top-color: var(--fill-color);\n",
              "    }\n",
              "    30% {\n",
              "      border-color: transparent;\n",
              "      border-left-color: var(--fill-color);\n",
              "      border-top-color: var(--fill-color);\n",
              "      border-right-color: var(--fill-color);\n",
              "    }\n",
              "    40% {\n",
              "      border-color: transparent;\n",
              "      border-right-color: var(--fill-color);\n",
              "      border-top-color: var(--fill-color);\n",
              "    }\n",
              "    60% {\n",
              "      border-color: transparent;\n",
              "      border-right-color: var(--fill-color);\n",
              "    }\n",
              "    80% {\n",
              "      border-color: transparent;\n",
              "      border-right-color: var(--fill-color);\n",
              "      border-bottom-color: var(--fill-color);\n",
              "    }\n",
              "    90% {\n",
              "      border-color: transparent;\n",
              "      border-bottom-color: var(--fill-color);\n",
              "    }\n",
              "  }\n",
              "</style>\n",
              "\n",
              "  <script>\n",
              "    async function quickchart(key) {\n",
              "      const quickchartButtonEl =\n",
              "        document.querySelector('#' + key + ' button');\n",
              "      quickchartButtonEl.disabled = true;  // To prevent multiple clicks.\n",
              "      quickchartButtonEl.classList.add('colab-df-spinner');\n",
              "      try {\n",
              "        const charts = await google.colab.kernel.invokeFunction(\n",
              "            'suggestCharts', [key], {});\n",
              "      } catch (error) {\n",
              "        console.error('Error during call to suggestCharts:', error);\n",
              "      }\n",
              "      quickchartButtonEl.classList.remove('colab-df-spinner');\n",
              "      quickchartButtonEl.classList.add('colab-df-quickchart-complete');\n",
              "    }\n",
              "    (() => {\n",
              "      let quickchartButtonEl =\n",
              "        document.querySelector('#df-7472c1a8-b791-4b0e-81f0-23f9efa26445 button');\n",
              "      quickchartButtonEl.style.display =\n",
              "        google.colab.kernel.accessAllowed ? 'block' : 'none';\n",
              "    })();\n",
              "  </script>\n",
              "</div>\n",
              "\n",
              "    </div>\n",
              "  </div>\n"
            ],
            "text/plain": [
              "                                                  SHA256\n",
              "0      2a053f32b1d48539e3e2807f86754be87ce95b08378467...\n",
              "1      2f031a1752f7067fb9f483ae0ac5f3036c9b66cc4af40e...\n",
              "2      308e8bb2e8a3b67607d2454370e0b50147b42049bda813...\n",
              "3      31aaba443b9869e6e68c17125f8d7989cbd762fb38ae3a...\n",
              "4      373d0778d083a04943032826a3571e5e8d450a9535f5a9...\n",
              "...                                                  ...\n",
              "28011  d1c923ec32d09be96adf3ba85e1855402f782b74437534...\n",
              "28012  d1dfc3203d99c0d54351bebd876762f27c0073e3cfef9a...\n",
              "28013  d1fea52507fc97ff419f8dd2ea8ecf689fb7c066cf8f18...\n",
              "28014  d201d8488d316c9ab7d537545efeda284568a652f23db1...\n",
              "28015  d207f51e336ab58868189d7826ef4fa2c897ae606ea744...\n",
              "\n",
              "[28014 rows x 1 columns]"
            ]
          },
          "execution_count": 16,
          "metadata": {},
          "output_type": "execute_result"
        }
      ],
      "source": [
        "dlsha.drop_duplicates()"
      ]
    },
    {
      "cell_type": "code",
      "execution_count": null,
      "metadata": {
        "colab": {
          "base_uri": "https://localhost:8080/"
        },
        "id": "2xJiBzE112d-",
        "outputId": "acae641a-43ca-467a-8461-4eaccfbc3b0b"
      },
      "outputs": [
        {
          "data": {
            "text/plain": [
              "(28016, 1)"
            ]
          },
          "execution_count": 17,
          "metadata": {},
          "output_type": "execute_result"
        }
      ],
      "source": [
        "dlsha.shape"
      ]
    },
    {
      "cell_type": "code",
      "execution_count": null,
      "metadata": {
        "colab": {
          "base_uri": "https://localhost:8080/"
        },
        "id": "bQeZt47115Mm",
        "outputId": "0cc354b9-854d-49ac-d86d-a313822985d5"
      },
      "outputs": [
        {
          "name": "stdout",
          "output_type": "stream",
          "text": [
            "(28017, 1)\n",
            "(28017, 1)\n"
          ]
        }
      ],
      "source": [
        "apisha = pd.read_csv(\"/content/dataset/API_Functions.csv\", usecols=['SHA256'])\n",
        "print(apisha.shape)\n",
        "apisha.drop_duplicates()\n",
        "print(apisha.shape)"
      ]
    },
    {
      "cell_type": "code",
      "execution_count": null,
      "metadata": {
        "colab": {
          "base_uri": "https://localhost:8080/"
        },
        "id": "3FtP1TiT21VZ",
        "outputId": "794196b3-6bda-4e86-9aa4-951461c8b5f9"
      },
      "outputs": [
        {
          "name": "stdout",
          "output_type": "stream",
          "text": [
            "(28014, 1)\n",
            "(28014, 1)\n"
          ]
        }
      ],
      "source": [
        "pesha = pd.read_csv(\"/content/dataset/portable_executable.csv\", usecols=['SHA256'])\n",
        "print(pesha.shape)\n",
        "pesha.drop_duplicates()\n",
        "print(pesha.shape)"
      ]
    }
  ],
  "metadata": {
    "accelerator": "TPU",
    "colab": {
      "gpuType": "V28",
      "provenance": []
    },
    "kernelspec": {
      "display_name": "Python 3",
      "name": "python3"
    },
    "language_info": {
      "name": "python"
    }
  },
  "nbformat": 4,
  "nbformat_minor": 0
}
